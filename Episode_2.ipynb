{
 "cells": [
  {
   "cell_type": "code",
   "execution_count": 6,
   "id": "86f9bc45",
   "metadata": {},
   "outputs": [],
   "source": [
    "import torch\n",
    "import pytorch_lightning as pl\n",
    "from torchvision.datasets import MNIST\n",
    "from torch.optim import Adam\n",
    "import torch.nn as nn"
   ]
  },
  {
   "cell_type": "code",
   "execution_count": 8,
   "id": "3e436933",
   "metadata": {},
   "outputs": [],
   "source": [
    "train_loader = MNIST('data')\n",
    "encoder = nn.Linear(28*28, 10)\n",
    "optimizer = Adam(encoder.parameters())"
   ]
  },
  {
   "cell_type": "code",
   "execution_count": null,
   "id": "b7a9198e",
   "metadata": {},
   "outputs": [],
   "source": [
    "from torch.nn.functional import cross_entropy\n",
    "\n",
    "class Trainer:\n",
    "    def __init__(max_epochs=10, callbacks=None):\n",
    "        self.max_epochs = max_epochs\n",
    "        if callbacks is None:\n",
    "            self.callbacks = []\n",
    "        \n",
    "    \n",
    "    def fit(self, model, train_loader):\n",
    "        self._train(model, train_loader)\n",
    "        \n",
    "        \n",
    "    def on_batch_start(self):\n",
    "        for cb in self.callbacks():\n",
    "            cb.on_after_backward()\n",
    "        \n",
    "    \n",
    "    def _train(self, model, train_loader):\n",
    "        for epoch in range(self.max_epochs):\n",
    "            batch_idx = 0\n",
    "            for batch in train_loader:\n",
    "                x, y = batch\n",
    "                \n",
    "                loss = model.training_step(batch, batch_idx)\n",
    "                loss.backward()\n",
    "                \n",
    "                self.on_after_backward(self, model, batch, batch_idx, dataloader_idx)\n",
    "                \n",
    "                optimizer.step()\n",
    "                optimizer.zero_grad()\n",
    "                batch_idx += 1"
   ]
  },
  {
   "cell_type": "code",
   "execution_count": null,
   "id": "22b01ca3",
   "metadata": {},
   "outputs": [],
   "source": [
    "class NormCallback(pl.Callback):\n",
    "       \n",
    "    def on_after_backward(self, model, batch, batch_idx, dataloader_idx):\n",
    "        return torch.norm(model.encoder.weights.grad, 2)"
   ]
  },
  {
   "cell_type": "code",
   "execution_count": null,
   "id": "0f3c2a8e",
   "metadata": {},
   "outputs": [],
   "source": [
    "cb = NormCallback()\n",
    "trainer = pl.Trainer(max_epochs=10, callbacks=[cb])\n",
    "trainer.fit(encoder, train_loader, optimizer)"
   ]
  },
  {
   "cell_type": "code",
   "execution_count": null,
   "id": "5c73d3fa",
   "metadata": {},
   "outputs": [],
   "source": [
    "class LitModel(pl.LightningModule):\n",
    "    def __init__(self):\n",
    "        self.encoder = nn.Linear(28*28, 10)\n",
    "    \n",
    "    \n",
    "    def training_step(self, batch, batch_idx):\n",
    "        x = x.view(x.size(0), -1)\n",
    "        logit = sefl.encoder(x)\n",
    "        loss = cross_entropy(logit, y)\n",
    "        return loss\n",
    "    \n",
    "    \n",
    "    def on_batch_start(self, batch):\n",
    "        return (1, 2)"
   ]
  }
 ],
 "metadata": {
  "kernelspec": {
   "display_name": "Python 3 (ipykernel)",
   "language": "python",
   "name": "python3"
  },
  "language_info": {
   "codemirror_mode": {
    "name": "ipython",
    "version": 3
   },
   "file_extension": ".py",
   "mimetype": "text/x-python",
   "name": "python",
   "nbconvert_exporter": "python",
   "pygments_lexer": "ipython3",
   "version": "3.7.11"
  }
 },
 "nbformat": 4,
 "nbformat_minor": 5
}
